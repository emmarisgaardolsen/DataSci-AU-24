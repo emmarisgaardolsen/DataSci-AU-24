{
 "cells": [
  {
   "cell_type": "markdown",
   "metadata": {},
   "source": [
    "# Part 1\n",
    "## DoWhy example"
   ]
  },
  {
   "cell_type": "markdown",
   "metadata": {},
   "source": [
    "This exercise is based on [Confounding Example: Finding causal effects from observed data](https://www.pywhy.org/dowhy/v0.11.1/example_notebooks/dowhy_confounder_example.html#Confounding-Example:-Finding-causal-effects-from-observed-data)\n",
    "\n",
    "Based on the concepts introduced in the previous lecture on estimating causal effects. The first part of the exercise is to use the DoWhy library to estimate causal effects on a dataset. \n",
    "\n",
    "In order to evaluate the precision of the estimation we need to simulate the dataset, so we know the true effect. To do this you can either:\n",
    "\n",
    "1) simulate the dataset yourself based on the SCM principles;\n",
    "2) use the funtion ```dowhy.datasets.linear_dataset``` to simulate the dataset for you.\n"
   ]
  },
  {
   "cell_type": "code",
   "execution_count": 58,
   "metadata": {},
   "outputs": [],
   "source": [
    "import dowhy\n",
    "from dowhy import datasets, CausalModel\n",
    "import dowhy.datasets, dowhy.plotter"
   ]
  },
  {
   "cell_type": "code",
   "execution_count": 36,
   "metadata": {},
   "outputs": [],
   "source": [
    "data = dowhy.datasets.linear_dataset(beta=5,\n",
    "        num_common_causes=1,\n",
    "        num_instruments = 3,\n",
    "        num_effect_modifiers=3,\n",
    "        num_samples=5000,\n",
    "        treatment_is_binary=True,\n",
    "        stddev_treatment_noise=10,\n",
    "        num_discrete_common_causes=1)\n",
    "        \n",
    "df = data[\"df\"]"
   ]
  },
  {
   "cell_type": "code",
   "execution_count": 37,
   "metadata": {},
   "outputs": [
    {
     "data": {
      "text/html": [
       "<div>\n",
       "<style scoped>\n",
       "    .dataframe tbody tr th:only-of-type {\n",
       "        vertical-align: middle;\n",
       "    }\n",
       "\n",
       "    .dataframe tbody tr th {\n",
       "        vertical-align: top;\n",
       "    }\n",
       "\n",
       "    .dataframe thead th {\n",
       "        text-align: right;\n",
       "    }\n",
       "</style>\n",
       "<table border=\"1\" class=\"dataframe\">\n",
       "  <thead>\n",
       "    <tr style=\"text-align: right;\">\n",
       "      <th></th>\n",
       "      <th>X0</th>\n",
       "      <th>X1</th>\n",
       "      <th>X2</th>\n",
       "      <th>Z0</th>\n",
       "      <th>Z1</th>\n",
       "      <th>Z2</th>\n",
       "      <th>W0</th>\n",
       "      <th>v0</th>\n",
       "      <th>y</th>\n",
       "    </tr>\n",
       "  </thead>\n",
       "  <tbody>\n",
       "    <tr>\n",
       "      <th>0</th>\n",
       "      <td>0.784267</td>\n",
       "      <td>-0.688945</td>\n",
       "      <td>0.171838</td>\n",
       "      <td>0.0</td>\n",
       "      <td>0.006156</td>\n",
       "      <td>0.0</td>\n",
       "      <td>3</td>\n",
       "      <td>True</td>\n",
       "      <td>10.210497</td>\n",
       "    </tr>\n",
       "    <tr>\n",
       "      <th>1</th>\n",
       "      <td>1.180747</td>\n",
       "      <td>-1.840738</td>\n",
       "      <td>-1.315478</td>\n",
       "      <td>0.0</td>\n",
       "      <td>0.647945</td>\n",
       "      <td>1.0</td>\n",
       "      <td>2</td>\n",
       "      <td>True</td>\n",
       "      <td>7.722272</td>\n",
       "    </tr>\n",
       "    <tr>\n",
       "      <th>2</th>\n",
       "      <td>-1.019777</td>\n",
       "      <td>-0.248736</td>\n",
       "      <td>0.736184</td>\n",
       "      <td>0.0</td>\n",
       "      <td>0.839827</td>\n",
       "      <td>1.0</td>\n",
       "      <td>3</td>\n",
       "      <td>True</td>\n",
       "      <td>7.451470</td>\n",
       "    </tr>\n",
       "    <tr>\n",
       "      <th>3</th>\n",
       "      <td>-0.343723</td>\n",
       "      <td>1.093728</td>\n",
       "      <td>-0.423484</td>\n",
       "      <td>0.0</td>\n",
       "      <td>0.559120</td>\n",
       "      <td>0.0</td>\n",
       "      <td>1</td>\n",
       "      <td>False</td>\n",
       "      <td>1.136655</td>\n",
       "    </tr>\n",
       "    <tr>\n",
       "      <th>4</th>\n",
       "      <td>2.112171</td>\n",
       "      <td>-1.714907</td>\n",
       "      <td>-2.079601</td>\n",
       "      <td>1.0</td>\n",
       "      <td>0.448821</td>\n",
       "      <td>0.0</td>\n",
       "      <td>2</td>\n",
       "      <td>True</td>\n",
       "      <td>8.517122</td>\n",
       "    </tr>\n",
       "  </tbody>\n",
       "</table>\n",
       "</div>"
      ],
      "text/plain": [
       "         X0        X1        X2   Z0        Z1   Z2 W0     v0          y\n",
       "0  0.784267 -0.688945  0.171838  0.0  0.006156  0.0  3   True  10.210497\n",
       "1  1.180747 -1.840738 -1.315478  0.0  0.647945  1.0  2   True   7.722272\n",
       "2 -1.019777 -0.248736  0.736184  0.0  0.839827  1.0  3   True   7.451470\n",
       "3 -0.343723  1.093728 -0.423484  0.0  0.559120  0.0  1  False   1.136655\n",
       "4  2.112171 -1.714907 -2.079601  1.0  0.448821  0.0  2   True   8.517122"
      ]
     },
     "execution_count": 37,
     "metadata": {},
     "output_type": "execute_result"
    }
   ],
   "source": [
    "df.head()"
   ]
  },
  {
   "cell_type": "markdown",
   "metadata": {},
   "source": [
    "When you have the dataset causal effect using DoWhy.\n",
    "\n",
    "### STEP 1: Model the problem as a causal graph\n",
    "\n",
    "Once you have a dataset, you need to build the graph that generated the dataset. If you use the DoWhy function it will also generate the graph for you. Once you have the graph remember to plot it! Always make a visualisation if possible. \n"
   ]
  },
  {
   "cell_type": "code",
   "execution_count": 42,
   "metadata": {},
   "outputs": [],
   "source": [
    "model=CausalModel(\n",
    "        data = df, # df is a pandas dataframe\n",
    "        treatment=data[\"treatment_name\"], # is stored in the dict we simulated\n",
    "        outcome=data[\"outcome_name\"], # is stored in the dict we simulated\n",
    "        graph=data[\"gml_graph\"] \n",
    "        )"
   ]
  },
  {
   "cell_type": "code",
   "execution_count": 39,
   "metadata": {},
   "outputs": [
    {
     "data": {
      "image/png": "[encoded data removed]",
      "text/plain": [
       "<Figure size 800x600 with 1 Axes>"
      ]
     },
     "metadata": {},
     "output_type": "display_data"
    }
   ],
   "source": [
    "model.view_model()"
   ]
  },
  {
   "cell_type": "markdown",
   "metadata": {},
   "source": [
    "### STEP 2: Identify causal effect using properties of the formal causal graph\n",
    "\n",
    "Once the estimand is identified check it for backdoors, iv (instrumental variables) and frontdoors. If you are happy continue. Pause and consider what would you do if you were not happy with a given estimand? \n"
   ]
  },
  {
   "cell_type": "code",
   "execution_count": 43,
   "metadata": {},
   "outputs": [
    {
     "name": "stdout",
     "output_type": "stream",
     "text": [
      "Estimand type: EstimandType.NONPARAMETRIC_ATE\n",
      "\n",
      "### Estimand : 1\n",
      "Estimand name: backdoor\n",
      "Estimand expression:\n",
      "  d           \n",
      "─────(E[y|W0])\n",
      "d[v₀]         \n",
      "Estimand assumption 1, Unconfoundedness: If U→{v0} and U→y then P(y|v0,W0,U) = P(y|v0,W0)\n",
      "\n",
      "### Estimand : 2\n",
      "Estimand name: iv\n",
      "Estimand expression:\n",
      " ⎡                                      -1⎤\n",
      " ⎢      d          ⎛      d            ⎞  ⎥\n",
      "E⎢─────────────(y)⋅⎜─────────────([v₀])⎟  ⎥\n",
      " ⎣d[Z₂  Z₁  Z₀]    ⎝d[Z₂  Z₁  Z₀]      ⎠  ⎦\n",
      "Estimand assumption 1, As-if-random: If U→→y then ¬(U →→{Z2,Z1,Z0})\n",
      "Estimand assumption 2, Exclusion: If we remove {Z2,Z1,Z0}→{v0}, then ¬({Z2,Z1,Z0}→y)\n",
      "\n",
      "### Estimand : 3\n",
      "Estimand name: frontdoor\n",
      "No such variable(s) found!\n",
      "\n"
     ]
    }
   ],
   "source": [
    "# determine if a desired causal effect can be identified when given a particular causal model\n",
    "# kind of determining causal effects present in the data\n",
    "identified_estimand = model.identify_effect(proceed_when_unidentifiable=True) \n",
    "print(identified_estimand)"
   ]
  },
  {
   "cell_type": "markdown",
   "metadata": {},
   "source": [
    "### STEP 3: Estimate the causal effect\n",
    "\n",
    "Estimate the effect and evaluate it. \n"
   ]
  },
  {
   "cell_type": "code",
   "execution_count": 61,
   "metadata": {},
   "outputs": [
    {
     "ename": "TypeError",
     "evalue": "OneHotEncoder.__init__() got an unexpected keyword argument 'sparse'",
     "output_type": "error",
     "traceback": [
      "\u001b[0;31m---------------------------------------------------------------------------\u001b[0m",
      "\u001b[0;31mTypeError\u001b[0m                                 Traceback (most recent call last)",
      "\u001b[1;32m/work/EmmaRisgaardOlsen#9993/DataSci-AU-24/my_solutions/exercises_class07.ipynb Cell 12\u001b[0m line \u001b[0;36m1\n\u001b[0;32m----> <a href='vscode-notebook-cell://app-5032323-0.cloud.sdu.dk/work/EmmaRisgaardOlsen%239993/DataSci-AU-24/my_solutions/exercises_class07.ipynb#X44sdnNjb2RlLXJlbW90ZQ%3D%3D?line=0'>1</a>\u001b[0m estimate \u001b[39m=\u001b[39m model\u001b[39m.\u001b[39;49mestimate_effect(identified_estimand,\n\u001b[1;32m      <a href='vscode-notebook-cell://app-5032323-0.cloud.sdu.dk/work/EmmaRisgaardOlsen%239993/DataSci-AU-24/my_solutions/exercises_class07.ipynb#X44sdnNjb2RlLXJlbW90ZQ%3D%3D?line=1'>2</a>\u001b[0m         method_name\u001b[39m=\u001b[39;49m\u001b[39m\"\u001b[39;49m\u001b[39mbackdoor.linear_regression\u001b[39;49m\u001b[39m\"\u001b[39;49m)\n\u001b[1;32m      <a href='vscode-notebook-cell://app-5032323-0.cloud.sdu.dk/work/EmmaRisgaardOlsen%239993/DataSci-AU-24/my_solutions/exercises_class07.ipynb#X44sdnNjb2RlLXJlbW90ZQ%3D%3D?line=2'>3</a>\u001b[0m \u001b[39mprint\u001b[39m(\u001b[39m\"\u001b[39m\u001b[39mCausal Estimate is \u001b[39m\u001b[39m\"\u001b[39m \u001b[39m+\u001b[39m \u001b[39mstr\u001b[39m(estimate\u001b[39m.\u001b[39mvalue))\n\u001b[1;32m      <a href='vscode-notebook-cell://app-5032323-0.cloud.sdu.dk/work/EmmaRisgaardOlsen%239993/DataSci-AU-24/my_solutions/exercises_class07.ipynb#X44sdnNjb2RlLXJlbW90ZQ%3D%3D?line=4'>5</a>\u001b[0m \u001b[39m# Plot Slope of line between treamtent and outcome =causal effect\u001b[39;00m\n",
      "File \u001b[0;32m/work/EmmaRisgaardOlsen#9993/ds-env/lib/python3.10/site-packages/dowhy/causal_model.py:360\u001b[0m, in \u001b[0;36mCausalModel.estimate_effect\u001b[0;34m(self, identified_estimand, method_name, control_value, treatment_value, test_significance, evaluate_effect_strength, confidence_intervals, target_units, effect_modifiers, fit_estimator, method_params)\u001b[0m\n\u001b[1;32m    349\u001b[0m         causal_estimator \u001b[39m=\u001b[39m causal_estimator_class(\n\u001b[1;32m    350\u001b[0m             identified_estimand,\n\u001b[1;32m    351\u001b[0m             test_significance\u001b[39m=\u001b[39mtest_significance,\n\u001b[0;32m   (...)\u001b[0m\n\u001b[1;32m    355\u001b[0m             \u001b[39m*\u001b[39m\u001b[39m*\u001b[39mextra_args,\n\u001b[1;32m    356\u001b[0m         )\n\u001b[1;32m    358\u001b[0m         \u001b[39mself\u001b[39m\u001b[39m.\u001b[39m_estimator_cache[method_name] \u001b[39m=\u001b[39m causal_estimator\n\u001b[0;32m--> 360\u001b[0m \u001b[39mreturn\u001b[39;00m estimate_effect(\n\u001b[1;32m    361\u001b[0m     \u001b[39mself\u001b[39;49m\u001b[39m.\u001b[39;49m_data,\n\u001b[1;32m    362\u001b[0m     \u001b[39mself\u001b[39;49m\u001b[39m.\u001b[39;49m_treatment,\n\u001b[1;32m    363\u001b[0m     \u001b[39mself\u001b[39;49m\u001b[39m.\u001b[39;49m_outcome,\n\u001b[1;32m    364\u001b[0m     identifier_name,\n\u001b[1;32m    365\u001b[0m     causal_estimator,\n\u001b[1;32m    366\u001b[0m     control_value,\n\u001b[1;32m    367\u001b[0m     treatment_value,\n\u001b[1;32m    368\u001b[0m     target_units,\n\u001b[1;32m    369\u001b[0m     effect_modifiers,\n\u001b[1;32m    370\u001b[0m     fit_estimator,\n\u001b[1;32m    371\u001b[0m     method_params,\n\u001b[1;32m    372\u001b[0m )\n",
      "File \u001b[0;32m/work/EmmaRisgaardOlsen#9993/ds-env/lib/python3.10/site-packages/dowhy/causal_estimator.py:719\u001b[0m, in \u001b[0;36mestimate_effect\u001b[0;34m(data, treatment, outcome, identifier_name, estimator, control_value, treatment_value, target_units, effect_modifiers, fit_estimator, method_params)\u001b[0m\n\u001b[1;32m    714\u001b[0m     \u001b[39mreturn\u001b[39;00m CausalEstimate(\n\u001b[1;32m    715\u001b[0m         \u001b[39mNone\u001b[39;00m, \u001b[39mNone\u001b[39;00m, \u001b[39mNone\u001b[39;00m, \u001b[39mNone\u001b[39;00m, \u001b[39mNone\u001b[39;00m, \u001b[39mNone\u001b[39;00m, control_value\u001b[39m=\u001b[39mcontrol_value, treatment_value\u001b[39m=\u001b[39mtreatment_value\n\u001b[1;32m    716\u001b[0m     )\n\u001b[1;32m    718\u001b[0m \u001b[39mif\u001b[39;00m fit_estimator:\n\u001b[0;32m--> 719\u001b[0m     estimator\u001b[39m.\u001b[39;49mfit(\n\u001b[1;32m    720\u001b[0m         data\u001b[39m=\u001b[39;49mdata,\n\u001b[1;32m    721\u001b[0m         effect_modifier_names\u001b[39m=\u001b[39;49meffect_modifiers,\n\u001b[1;32m    722\u001b[0m         \u001b[39m*\u001b[39;49m\u001b[39m*\u001b[39;49mmethod_params[\u001b[39m\"\u001b[39;49m\u001b[39mfit_params\u001b[39;49m\u001b[39m\"\u001b[39;49m] \u001b[39mif\u001b[39;49;00m \u001b[39m\"\u001b[39;49m\u001b[39mfit_params\u001b[39;49m\u001b[39m\"\u001b[39;49m \u001b[39min\u001b[39;49;00m method_params \u001b[39melse\u001b[39;49;00m {},\n\u001b[1;32m    723\u001b[0m     )\n\u001b[1;32m    725\u001b[0m estimate \u001b[39m=\u001b[39m estimator\u001b[39m.\u001b[39mestimate_effect(\n\u001b[1;32m    726\u001b[0m     data,\n\u001b[1;32m    727\u001b[0m     treatment_value\u001b[39m=\u001b[39mtreatment_value,\n\u001b[0;32m   (...)\u001b[0m\n\u001b[1;32m    730\u001b[0m     confidence_intervals\u001b[39m=\u001b[39mestimator\u001b[39m.\u001b[39m_confidence_intervals,\n\u001b[1;32m    731\u001b[0m )\n\u001b[1;32m    733\u001b[0m \u001b[39mif\u001b[39;00m estimator\u001b[39m.\u001b[39m_significance_test:\n",
      "File \u001b[0;32m/work/EmmaRisgaardOlsen#9993/ds-env/lib/python3.10/site-packages/dowhy/causal_estimators/linear_regression_estimator.py:86\u001b[0m, in \u001b[0;36mLinearRegressionEstimator.fit\u001b[0;34m(self, data, effect_modifier_names)\u001b[0m\n\u001b[1;32m     72\u001b[0m \u001b[39mdef\u001b[39;00m \u001b[39mfit\u001b[39m(\n\u001b[1;32m     73\u001b[0m     \u001b[39mself\u001b[39m,\n\u001b[1;32m     74\u001b[0m     data: pd\u001b[39m.\u001b[39mDataFrame,\n\u001b[1;32m     75\u001b[0m     effect_modifier_names: Optional[List[\u001b[39mstr\u001b[39m]] \u001b[39m=\u001b[39m \u001b[39mNone\u001b[39;00m,\n\u001b[1;32m     76\u001b[0m ):\n\u001b[1;32m     77\u001b[0m \u001b[39m    \u001b[39m\u001b[39m\"\"\"\u001b[39;00m\n\u001b[1;32m     78\u001b[0m \u001b[39m    Fits the estimator with data for effect estimation\u001b[39;00m\n\u001b[1;32m     79\u001b[0m \u001b[39m    :param data: data frame containing the data\u001b[39;00m\n\u001b[0;32m   (...)\u001b[0m\n\u001b[1;32m     84\u001b[0m \u001b[39m                methods support this currently.\u001b[39;00m\n\u001b[1;32m     85\u001b[0m \u001b[39m    \"\"\"\u001b[39;00m\n\u001b[0;32m---> 86\u001b[0m     \u001b[39mreturn\u001b[39;00m \u001b[39msuper\u001b[39;49m()\u001b[39m.\u001b[39;49mfit(data, effect_modifier_names\u001b[39m=\u001b[39;49meffect_modifier_names)\n",
      "File \u001b[0;32m/work/EmmaRisgaardOlsen#9993/ds-env/lib/python3.10/site-packages/dowhy/causal_estimators/regression_estimator.py:142\u001b[0m, in \u001b[0;36mRegressionEstimator.fit\u001b[0;34m(self, data, effect_modifier_names)\u001b[0m\n\u001b[1;32m    140\u001b[0m \u001b[39mif\u001b[39;00m \u001b[39mlen\u001b[39m(\u001b[39mself\u001b[39m\u001b[39m.\u001b[39m_observed_common_causes_names) \u001b[39m>\u001b[39m \u001b[39m0\u001b[39m:\n\u001b[1;32m    141\u001b[0m     \u001b[39mself\u001b[39m\u001b[39m.\u001b[39m_observed_common_causes \u001b[39m=\u001b[39m data[\u001b[39mself\u001b[39m\u001b[39m.\u001b[39m_observed_common_causes_names]\n\u001b[0;32m--> 142\u001b[0m     \u001b[39mself\u001b[39m\u001b[39m.\u001b[39m_observed_common_causes \u001b[39m=\u001b[39m \u001b[39mself\u001b[39;49m\u001b[39m.\u001b[39;49m_encode(\u001b[39mself\u001b[39;49m\u001b[39m.\u001b[39;49m_observed_common_causes, \u001b[39m\"\u001b[39;49m\u001b[39mobserved_common_causes\u001b[39;49m\u001b[39m\"\u001b[39;49m)\n\u001b[1;32m    143\u001b[0m \u001b[39melse\u001b[39;00m:\n\u001b[1;32m    144\u001b[0m     \u001b[39mself\u001b[39m\u001b[39m.\u001b[39m_observed_common_causes \u001b[39m=\u001b[39m \u001b[39mNone\u001b[39;00m\n",
      "File \u001b[0;32m/work/EmmaRisgaardOlsen#9993/ds-env/lib/python3.10/site-packages/dowhy/causal_estimators/regression_estimator.py:111\u001b[0m, in \u001b[0;36mRegressionEstimator._encode\u001b[0;34m(self, data, encoder_name)\u001b[0m\n\u001b[1;32m    100\u001b[0m \u001b[39m\u001b[39m\u001b[39m\"\"\"\u001b[39;00m\n\u001b[1;32m    101\u001b[0m \u001b[39mEncodes categorical columns in the given data, returning a new dataframe containing\u001b[39;00m\n\u001b[1;32m    102\u001b[0m \u001b[39mall original data and the encoded columns. Numerical data is unchanged, categorical\u001b[39;00m\n\u001b[0;32m   (...)\u001b[0m\n\u001b[1;32m    108\u001b[0m \u001b[39m:returns: The encoded data.\u001b[39;00m\n\u001b[1;32m    109\u001b[0m \u001b[39m\"\"\"\u001b[39;00m\n\u001b[1;32m    110\u001b[0m existing_encoder \u001b[39m=\u001b[39m \u001b[39mself\u001b[39m\u001b[39m.\u001b[39m_encoders\u001b[39m.\u001b[39mget(encoder_name)\n\u001b[0;32m--> 111\u001b[0m encoded_variables, encoder \u001b[39m=\u001b[39m one_hot_encode(\n\u001b[1;32m    112\u001b[0m     data,\n\u001b[1;32m    113\u001b[0m     drop_first\u001b[39m=\u001b[39;49m\u001b[39mself\u001b[39;49m\u001b[39m.\u001b[39;49mencoder_drop_first,\n\u001b[1;32m    114\u001b[0m     encoder\u001b[39m=\u001b[39;49mexisting_encoder,\n\u001b[1;32m    115\u001b[0m )\n\u001b[1;32m    117\u001b[0m \u001b[39m# Remember encoder\u001b[39;00m\n\u001b[1;32m    118\u001b[0m \u001b[39mself\u001b[39m\u001b[39m.\u001b[39m_encoders[encoder_name] \u001b[39m=\u001b[39m encoder\n",
      "File \u001b[0;32m/work/EmmaRisgaardOlsen#9993/ds-env/lib/python3.10/site-packages/dowhy/utils/encoding.py:47\u001b[0m, in \u001b[0;36mone_hot_encode\u001b[0;34m(data, columns, drop_first, encoder)\u001b[0m\n\u001b[1;32m     45\u001b[0m     \u001b[39mif\u001b[39;00m drop_first:\n\u001b[1;32m     46\u001b[0m         drop \u001b[39m=\u001b[39m \u001b[39m\"\u001b[39m\u001b[39mfirst\u001b[39m\u001b[39m\"\u001b[39m\n\u001b[0;32m---> 47\u001b[0m     encoder \u001b[39m=\u001b[39m OneHotEncoder(drop\u001b[39m=\u001b[39;49mdrop, sparse\u001b[39m=\u001b[39;49m\u001b[39mFalse\u001b[39;49;00m)  \u001b[39m# NB sparse renamed to sparse_output in sklearn 1.2+\u001b[39;00m\n\u001b[1;32m     49\u001b[0m     encoded_data \u001b[39m=\u001b[39m encoder\u001b[39m.\u001b[39mfit_transform(data_to_encode)\n\u001b[1;32m     51\u001b[0m \u001b[39melse\u001b[39;00m:  \u001b[39m# Use existing encoder\u001b[39;00m\n",
      "\u001b[0;31mTypeError\u001b[0m: OneHotEncoder.__init__() got an unexpected keyword argument 'sparse'"
     ]
    }
   ],
   "source": [
    "estimate = model.estimate_effect(identified_estimand,\n",
    "        method_name=\"backdoor.linear_regression\")\n",
    "print(\"Causal Estimate is \" + str(estimate.value))\n",
    "\n",
    "# Plot Slope of line between treamtent and outcome =causal effect\n",
    "dowhy.plotter.plot_causal_effect(estimate, df[data_dict[\"treatment_name\"]], df[data_dict[\"outcome_name\"]])"
   ]
  },
  {
   "cell_type": "code",
   "execution_count": 60,
   "metadata": {},
   "outputs": [
    {
     "name": "stdout",
     "output_type": "stream",
     "text": [
      "*** Causal Estimate ***\n",
      "\n",
      "## Identified estimand\n",
      "Estimand type: EstimandType.NONPARAMETRIC_ATE\n",
      "\n",
      "### Estimand : 1\n",
      "Estimand name: backdoor\n",
      "Estimand expression:\n",
      "  d           \n",
      "─────(E[y|W0])\n",
      "d[v₀]         \n",
      "Estimand assumption 1, Unconfoundedness: If U→{v0} and U→y then P(y|v0,W0,U) = P(y|v0,W0)\n",
      "\n",
      "## Realized estimand\n",
      "b: y~v0+W0\n",
      "Target units: att\n",
      "\n",
      "## Estimate\n",
      "Mean value: 6.529453729102819\n",
      "\n"
     ]
    }
   ],
   "source": [
    "# estimate causal effect based on the identified estimand\n",
    "estimate = model.estimate_effect(identified_estimand,\n",
    "                                 method_name='backdoor.propensity_score_matching', # could have chosen iv/frontdoor instead of backdoor, we don't look at iv\n",
    "                                 target_units='att')\n",
    "print(estimate)"
   ]
  },
  {
   "cell_type": "code",
   "execution_count": 51,
   "metadata": {},
   "outputs": [
    {
     "name": "stdout",
     "output_type": "stream",
     "text": [
      "*** Causal Estimate ***\n",
      "\n",
      "## Identified estimand\n",
      "Estimand type: EstimandType.NONPARAMETRIC_ATE\n",
      "\n",
      "### Estimand : 1\n",
      "Estimand name: backdoor\n",
      "Estimand expression:\n",
      "  d           \n",
      "─────(E[y|W0])\n",
      "d[v₀]         \n",
      "Estimand assumption 1, Unconfoundedness: If U→{v0} and U→y then P(y|v0,W0,U) = P(y|v0,W0)\n",
      "\n",
      "## Realized estimand\n",
      "b: y~v0+W0\n",
      "Target units: ate\n",
      "\n",
      "## Estimate\n",
      "Mean value: 6.52361139518142\n",
      "\n"
     ]
    }
   ],
   "source": [
    "est_pss = model.estimate_effect(identified_estimand,method_name=\"backdoor.propensity_score_stratification\",\n",
    "                                method_params={'num_strata':50, 'clipping_threshold':5})\n",
    "print(est_pss)"
   ]
  },
  {
   "cell_type": "markdown",
   "metadata": {},
   "source": [
    "### OPTIONAL Step 4: Refuting the estimate\n",
    "\n",
    "There are several techniques to refute the estimate, in the example link above a few is given. You can try them out and consider what is the reasons for doing them. "
   ]
  },
  {
   "cell_type": "code",
   "execution_count": null,
   "metadata": {},
   "outputs": [],
   "source": []
  },
  {
   "cell_type": "markdown",
   "metadata": {},
   "source": [
    "# Part 2\n",
    "## Consider how to apply causal inference to your own project."
   ]
  },
  {
   "cell_type": "markdown",
   "metadata": {},
   "source": [
    "For your own spend some time considering could causal inference be useful, consider both \n",
    "why and why not. \n",
    "\n",
    "What sort of questions could causal inference solve in your project?\n",
    "\n",
    "For causal inference to be useful several things need to be considered: \n",
    "\n",
    "- What is the data generating process (DGP)?\n",
    "- How to graph the DGP?\n",
    "    - How would you find the information needed to graph it?\n",
    "    - What is the relation between the different nodes in the graph?\n",
    "- What is the treatment variable?\n",
    "- Consider the estimand.\n",
    "    - Anything that needs to be changed?\n",
    "- How would you interpret and use any finding? \n",
    "\n",
    "\n"
   ]
  },
  {
   "cell_type": "markdown",
   "metadata": {},
   "source": []
  }
 ],
 "metadata": {
  "kernelspec": {
   "display_name": "ds-env",
   "language": "python",
   "name": "python3"
  },
  "language_info": {
   "codemirror_mode": {
    "name": "ipython",
    "version": 3
   },
   "file_extension": ".py",
   "mimetype": "text/x-python",
   "name": "python",
   "nbconvert_exporter": "python",
   "pygments_lexer": "ipython3",
   "version": "3.10.12"
  }
 },
 "nbformat": 4,
 "nbformat_minor": 4
}
